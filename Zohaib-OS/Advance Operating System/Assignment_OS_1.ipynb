{
  "nbformat": 4,
  "nbformat_minor": 0,
  "metadata": {
    "colab": {
      "provenance": [],
      "authorship_tag": "ABX9TyM5rXTVEDqZlU7mH5iE3Lwo",
      "include_colab_link": true
    },
    "kernelspec": {
      "name": "python3",
      "display_name": "Python 3"
    },
    "language_info": {
      "name": "python"
    }
  },
  "cells": [
    {
      "cell_type": "markdown",
      "metadata": {
        "id": "view-in-github",
        "colab_type": "text"
      },
      "source": [
        "<a href=\"https://colab.research.google.com/github/zohaib45/Zohaib-OS/blob/main/Zohaib-OS/Advance%20Operating%20System/Assignment_OS_1.ipynb\" target=\"_parent\"><img src=\"https://colab.research.google.com/assets/colab-badge.svg\" alt=\"Open In Colab\"/></a>"
      ]
    },
    {
      "cell_type": "code",
      "execution_count": null,
      "metadata": {
        "id": "riHNSefmM6Z2"
      },
      "outputs": [],
      "source": []
    },
    {
      "cell_type": "markdown",
      "source": [
        "# Chapter 3 \n",
        "Example 3.4"
      ],
      "metadata": {
        "id": "yH2FELASODjt"
      }
    },
    {
      "cell_type": "code",
      "source": [
        "guest_list = ['Talha', 'Ayesha', 'sydra', 'Ahmad']\n",
        "\n",
        "name_guest = guest_list[0].title()\n",
        "print(\"Dear \" + name_guest + \" you are cardly invited on dinner at 8PM Today\")\n",
        "\n",
        "name_guest = guest_list[1].title()\n",
        "print(\"Dear \" + name_guest + \" you are cardly invited on dinner at 8PM Today\")\n",
        "\n",
        "name_guest = guest_list[2].title()\n",
        "print(\"Dear \" + name_guest + \" you are cardly invited on dinner at 8PM Today\")\n",
        "\n",
        "name_guest = guest_list[3].title()\n",
        "print(\"Dear \" + name_guest + \" you are cardly invited on dinner at 8PM Today\")"
      ],
      "metadata": {
        "colab": {
          "base_uri": "https://localhost:8080/"
        },
        "id": "N5W7yi91OGGD",
        "outputId": "c6a403e6-039d-485f-d60b-b0edce41070b"
      },
      "execution_count": null,
      "outputs": [
        {
          "output_type": "stream",
          "name": "stdout",
          "text": [
            "Dear Talha you are cardly invited on dinner at 8PM Today\n",
            "Dear Ayesha you are cardly invited on dinner at 8PM Today\n",
            "Dear Sydra you are cardly invited on dinner at 8PM Today\n",
            "Dear Ahmad you are cardly invited on dinner at 8PM Today\n"
          ]
        }
      ]
    }
  ]
}