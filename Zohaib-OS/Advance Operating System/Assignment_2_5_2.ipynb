{
  "nbformat": 4,
  "nbformat_minor": 0,
  "metadata": {
    "colab": {
      "provenance": [],
      "authorship_tag": "ABX9TyN8r9JmNvk5QEp65OEadhim",
      "include_colab_link": true
    },
    "kernelspec": {
      "name": "python3",
      "display_name": "Python 3"
    },
    "language_info": {
      "name": "python"
    }
  },
  "cells": [
    {
      "cell_type": "markdown",
      "metadata": {
        "id": "view-in-github",
        "colab_type": "text"
      },
      "source": [
        "<a href=\"https://colab.research.google.com/github/zohaib45/Zohaib-OS/blob/main/Zohaib-OS/Advance%20Operating%20System/Assignment_2_5_2.ipynb\" target=\"_parent\"><img src=\"https://colab.research.google.com/assets/colab-badge.svg\" alt=\"Open In Colab\"/></a>"
      ]
    },
    {
      "cell_type": "code",
      "execution_count": null,
      "metadata": {
        "id": "ZHzAKEjxgLD-"
      },
      "outputs": [],
      "source": []
    },
    {
      "cell_type": "markdown",
      "source": [
        "# Example 5.2"
      ],
      "metadata": {
        "id": "7iQHc4Z7gbqb"
      }
    },
    {
      "cell_type": "code",
      "source": [
        "sports_list = 'Cricket'\n",
        "print(sports_list == 'Football')\n",
        "print(sports_list == 'Cricket')\n",
        "print(sports_list != 'Football')\n",
        "print(sports_list != 'Cricket')\n",
        "\n",
        "\n",
        "\n",
        "#lower function\n",
        "print('\\n')\n",
        "print(sports_list.lower() == 'Cricket')\n",
        "print(sports_list.lower() == 'cricket')\n",
        "print(\"\\n\")\n",
        "#Equality/inequality/greater and less\n",
        "\n",
        "a_int = 20\n",
        "print(a_int == 15)  \n",
        "print(a_int != 30)\n",
        "print(a_int > 15)\n",
        "print(a_int < 10)\n",
        "print(a_int <= 10)\n",
        "print(a_int >= 20)\n",
        "\n",
        "#AND OR function 4\n",
        "print(\"\\n\")\n",
        "rank = 2\n",
        "scores = 80\n",
        "\n",
        "print(rank < 5 and scores >= 70)\n",
        "print(rank > 5 or scores >=70)\n",
        "print(\"\\n\")\n",
        "#Check whether  item is in list or not\n",
        "\n",
        "list_num = [45, 85, 56, 158, 69]\n",
        "student_zabi = 90\n",
        "for item  in list_num:\n",
        "    if(list_num == student_zabi):\n",
        "        student_zabi = True\n",
        "    if(student_zabi == True):\n",
        "\n",
        "        print(\"Item is available in the number list\")\n",
        "    else:\n",
        "           print(\"Item is not avaialbale in the number list\")"
      ],
      "metadata": {
        "colab": {
          "base_uri": "https://localhost:8080/"
        },
        "id": "7Bu_Yt-vgZvV",
        "outputId": "a95444dd-0f0f-4094-8da4-368f3296e18e"
      },
      "execution_count": 10,
      "outputs": [
        {
          "output_type": "stream",
          "name": "stdout",
          "text": [
            "False\n",
            "True\n",
            "True\n",
            "False\n",
            "\n",
            "\n",
            "False\n",
            "True\n",
            "\n",
            "\n",
            "False\n",
            "True\n",
            "True\n",
            "False\n",
            "False\n",
            "True\n",
            "\n",
            "\n",
            "True\n",
            "True\n",
            "\n",
            "\n",
            "Item is not avaialbale in the number list\n",
            "Item is not avaialbale in the number list\n",
            "Item is not avaialbale in the number list\n",
            "Item is not avaialbale in the number list\n",
            "Item is not avaialbale in the number list\n"
          ]
        }
      ]
    }
  ]
}