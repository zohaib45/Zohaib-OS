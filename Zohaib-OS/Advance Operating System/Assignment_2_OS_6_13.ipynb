{
  "nbformat": 4,
  "nbformat_minor": 0,
  "metadata": {
    "colab": {
      "provenance": [],
      "authorship_tag": "ABX9TyOhHJt2fdvVAN2BoCqpQbEz",
      "include_colab_link": true
    },
    "kernelspec": {
      "name": "python3",
      "display_name": "Python 3"
    },
    "language_info": {
      "name": "python"
    }
  },
  "cells": [
    {
      "cell_type": "markdown",
      "metadata": {
        "id": "view-in-github",
        "colab_type": "text"
      },
      "source": [
        "<a href=\"https://colab.research.google.com/github/zohaib45/Zohaib-OS/blob/main/Zohaib-OS/Advance%20Operating%20System/Assignment_2_OS_6_13.ipynb\" target=\"_parent\"><img src=\"https://colab.research.google.com/assets/colab-badge.svg\" alt=\"Open In Colab\"/></a>"
      ]
    },
    {
      "cell_type": "markdown",
      "source": [
        "# Chapter 6\n",
        "Example 6.13"
      ],
      "metadata": {
        "id": "O9JSXrwOul9G"
      }
    },
    {
      "cell_type": "code",
      "execution_count": 2,
      "metadata": {
        "colab": {
          "base_uri": "https://localhost:8080/"
        },
        "id": "a68hkpoeuBpb",
        "outputId": "321982d0-660c-48a0-a402-04121d0baede"
      },
      "outputs": [
        {
          "output_type": "stream",
          "name": "stdout",
          "text": [
            "\n",
            "String:\n",
            "A series of characters.\n",
            "\n",
            "Comment:\n",
            "A note in the Program that the python interpreter ignores.\n",
            "\n",
            "List:\n",
            "A collection of items in a particular order\n",
            "\n",
            "Dictionary:\n",
            "A collection of key-value pairs.\n",
            "\n",
            "Loop:\n",
            "Work through a collection of items, one at a time.\n"
          ]
        }
      ],
      "source": [
        "glossary = {\n",
        "    'string' : 'A series of characters.', \n",
        "    'comment' : 'A note in the Program that the python interpreter ignores.',\n",
        "    'list' : 'A collection of items in a particular order',\n",
        "    'dictionary' : 'A collection of key-value pairs.',\n",
        "    'loop' : 'Work through a collection of items, one at a time.'\n",
        "}\n",
        "a = \"string\"\n",
        "print('\\n' + a.title() + \":\" +'\\n' + glossary[a])\n",
        "\n",
        "a = \"comment\"\n",
        "print('\\n' + a.title() + \":\" +'\\n' + glossary[a])\n",
        "\n",
        "a = 'list'\n",
        "print('\\n' + a.title() + \":\" +'\\n' + glossary[a])\n",
        "\n",
        "a = 'dictionary'\n",
        "print('\\n' + a.title() + \":\" +'\\n' + glossary[a])\n",
        "\n",
        "a = 'loop'\n",
        "print('\\n' + a.title() + \":\" +'\\n' + glossary[a])"
      ]
    }
  ]
}