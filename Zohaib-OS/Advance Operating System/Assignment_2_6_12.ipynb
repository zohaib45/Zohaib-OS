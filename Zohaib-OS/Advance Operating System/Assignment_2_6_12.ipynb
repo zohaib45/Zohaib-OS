{
  "nbformat": 4,
  "nbformat_minor": 0,
  "metadata": {
    "colab": {
      "provenance": [],
      "authorship_tag": "ABX9TyMcwSfcX0+UoV8j1xouZI+X",
      "include_colab_link": true
    },
    "kernelspec": {
      "name": "python3",
      "display_name": "Python 3"
    },
    "language_info": {
      "name": "python"
    }
  },
  "cells": [
    {
      "cell_type": "markdown",
      "metadata": {
        "id": "view-in-github",
        "colab_type": "text"
      },
      "source": [
        "<a href=\"https://colab.research.google.com/github/zohaib45/Zohaib-OS/blob/main/Zohaib-OS/Advance%20Operating%20System/Assignment_2_6_12.ipynb\" target=\"_parent\"><img src=\"https://colab.research.google.com/assets/colab-badge.svg\" alt=\"Open In Colab\"/></a>"
      ]
    },
    {
      "cell_type": "markdown",
      "source": [
        "# Chapter 6\n",
        "Example 6.12"
      ],
      "metadata": {
        "id": "rI7_Aqc3tglk"
      }
    },
    {
      "cell_type": "code",
      "execution_count": 6,
      "metadata": {
        "id": "d7WhEtlxq4tw",
        "colab": {
          "base_uri": "https://localhost:8080/"
        },
        "outputId": "67a60256-fe41-421c-c5bd-7981e609a224"
      },
      "outputs": [
        {
          "output_type": "stream",
          "name": "stdout",
          "text": [
            "The given items are into dictionary:\n",
            "Zohaib favourite Language is: Python\n",
            "Raheel favourite Language is: C#\n",
            "Niazi favourite Language is: .Net\n",
            "Osama favourite Language is: PHP\n",
            "\n",
            "\n",
            "After addtition of language\n",
            "Zohaib's favourite Language is  PYTHON\n",
            "Raheel's favourite Language is  C#\n",
            "Niazi's favourite Language is  .NET\n",
            "Osama's favourite Language is  PHP\n",
            "Shagufta's favourite Language is  JAZASCRIPT\n",
            "Ijaz's favourite Language is  ASSEMBLY\n"
          ]
        }
      ],
      "source": [
        "fav_lang ={\n",
        "    'Zohaib' : 'Python', \n",
        "    'Raheel' : 'C#', \n",
        "    'Niazi' : '.Net', \n",
        "    'Osama' : 'PHP'\n",
        "}\n",
        "print('The given items are into dictionary:')\n",
        "for name, language in fav_lang.items():\n",
        "    print(name.title() +\" favourite Language is: \" + language)\n",
        "\n",
        "#keys and values addition in the dictionary\n",
        "fav_lang['Shagufta'] = 'jazascript'\n",
        "fav_lang['Ijaz'] = 'assembly'\n",
        "print('\\n')\n",
        "print('After addtition of language')\n",
        "for name, language in fav_lang.items():\n",
        "    print(name.title()+ \"'s favourite Language is  \"+language.upper())"
      ]
    }
  ]
}