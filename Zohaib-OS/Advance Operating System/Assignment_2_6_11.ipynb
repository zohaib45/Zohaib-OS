{
  "nbformat": 4,
  "nbformat_minor": 0,
  "metadata": {
    "colab": {
      "provenance": [],
      "authorship_tag": "ABX9TyOj4LDjb73wkCboT+UJbthN",
      "include_colab_link": true
    },
    "kernelspec": {
      "name": "python3",
      "display_name": "Python 3"
    },
    "language_info": {
      "name": "python"
    }
  },
  "cells": [
    {
      "cell_type": "markdown",
      "metadata": {
        "id": "view-in-github",
        "colab_type": "text"
      },
      "source": [
        "<a href=\"https://colab.research.google.com/github/zohaib45/Zohaib-OS/blob/main/Zohaib-OS/Advance%20Operating%20System/Assignment_2_6_11.ipynb\" target=\"_parent\"><img src=\"https://colab.research.google.com/assets/colab-badge.svg\" alt=\"Open In Colab\"/></a>"
      ]
    },
    {
      "cell_type": "code",
      "execution_count": null,
      "metadata": {
        "id": "fQZ4BiGKmqfT"
      },
      "outputs": [],
      "source": []
    },
    {
      "cell_type": "markdown",
      "source": [
        "# Chapter 6\n",
        "Example 6.11"
      ],
      "metadata": {
        "id": "-aAjuvntmtl2"
      }
    },
    {
      "cell_type": "code",
      "source": [
        "towns = {\n",
        "    'multan' : \n",
        "    {\n",
        "        'country' : 'pakistan',\n",
        "        'population' : '1.872 Million',\n",
        "        'famous_for' : 'blue potry'\n",
        "       },\n",
        "    'London' : \n",
        "    {\n",
        "        'country' : 'United Kingdom',\n",
        "        'population' : '8.92 Million',\n",
        "        'famous_for' : 'BigBen, Twin Tower '\n",
        "        },\n",
        "    'Cape town' : \n",
        "    {\n",
        "       'country' : 'South Africa',\n",
        "        'population' : '4.6 Million',\n",
        "        'famous_for' : 'sun, sea and scenery'\n",
        "    }\n",
        "}\n",
        "for cities, city_info in towns.items():\n",
        "\n",
        "    #print(\"\\nCity Name: \" + towns.title())\n",
        "    #print(\"Country: \" + city_info['country'].title())\n",
        "    #print(\"Population: \" + city_info['population'])\n",
        "    #print(\"famous_for: \" + city_info['famous_for'].title())\n",
        "\n",
        "    country = city_info['country'].title()\n",
        "    population = city_info['population']\n",
        "    famous_for = city_info['famous_for'].title()\n",
        "\n",
        "    #print(\"\\n\" + city.title() + \" is in \" + country + \"!\")\n",
        "    print(\"It has a population of about \" + str(population) + \"!\")\n",
        "    print(famous_for)\n"
      ],
      "metadata": {
        "colab": {
          "base_uri": "https://localhost:8080/"
        },
        "id": "gosZEFkomsOk",
        "outputId": "1e520417-6a45-4272-cac2-473ffc8a96f9"
      },
      "execution_count": 9,
      "outputs": [
        {
          "output_type": "stream",
          "name": "stdout",
          "text": [
            "It has a population of about 1.872 Million!\n",
            "Blue Potry\n",
            "It has a population of about 8.92 Million!\n",
            "Bigben, Twin Tower \n",
            "It has a population of about 4.6 Million!\n",
            "Sun, Sea And Scenery\n"
          ]
        }
      ]
    }
  ]
}