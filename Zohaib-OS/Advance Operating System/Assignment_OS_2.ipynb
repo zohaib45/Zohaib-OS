{
  "nbformat": 4,
  "nbformat_minor": 0,
  "metadata": {
    "colab": {
      "provenance": [],
      "authorship_tag": "ABX9TyMwf18MZZGRoSGMfnspO3L6",
      "include_colab_link": true
    },
    "kernelspec": {
      "name": "python3",
      "display_name": "Python 3"
    },
    "language_info": {
      "name": "python"
    }
  },
  "cells": [
    {
      "cell_type": "markdown",
      "metadata": {
        "id": "view-in-github",
        "colab_type": "text"
      },
      "source": [
        "<a href=\"https://colab.research.google.com/github/zohaib45/Zohaib-OS/blob/main/Zohaib-OS/Advance%20Operating%20System/Assignment_OS_2.ipynb\" target=\"_parent\"><img src=\"https://colab.research.google.com/assets/colab-badge.svg\" alt=\"Open In Colab\"/></a>"
      ]
    },
    {
      "cell_type": "code",
      "execution_count": null,
      "metadata": {
        "id": "0HI95t8FYoV9"
      },
      "outputs": [],
      "source": []
    },
    {
      "cell_type": "markdown",
      "source": [
        "**Chapter** 4\n",
        "Example 4.11"
      ],
      "metadata": {
        "id": "1Ai_YKHjYw5M"
      }
    },
    {
      "cell_type": "code",
      "source": [
        "zabi_pizza = [\"zabi's special\", 'Chiken Fajita', 'Cheesey wezy']\n",
        "\n",
        "friend_pizza = zabi_pizza[:]\n",
        "\n",
        "zabi_pizza.append(\"beef Fajeeta\")\n",
        "friend_pizza.append('Nutella')\n",
        "\n",
        "print(\"My favorite pizzas are:\")\n",
        "for pizza in zabi_pizza:\n",
        "    print(\"- \" + pizza)\n",
        "print(\"\\n\")\n",
        "print(\"My friend favorite pizzas are:\")\n",
        "for pizza in friend_pizza:\n",
        "    print(\"- \" + pizza)"
      ],
      "metadata": {
        "colab": {
          "base_uri": "https://localhost:8080/"
        },
        "id": "OMW-hFNGY6qH",
        "outputId": "dc5a317f-56f6-4335-c03c-9ed3fb2f8575"
      },
      "execution_count": 8,
      "outputs": [
        {
          "output_type": "stream",
          "name": "stdout",
          "text": [
            "My favorite pizzas are:\n",
            "- zabi's special\n",
            "- Chiken Fajita\n",
            "- Cheesey wezy\n",
            "- beef Fajeeta\n",
            "\n",
            "\n",
            "My friend favorite pizzas are:\n",
            "- zabi's special\n",
            "- Chiken Fajita\n",
            "- Cheesey wezy\n",
            "- Nutella\n"
          ]
        }
      ]
    },
    {
      "cell_type": "markdown",
      "source": [
        "# Example 4.13"
      ],
      "metadata": {
        "id": "I2trPsFfbM0Z"
      }
    },
    {
      "cell_type": "code",
      "source": [
        "sajid_items = ('Sandwich', 'Nuggets', 'Burger', 'Crab cakes', 'Pizza')\n",
        "print(\"You can choose from the sajid's items:\")\n",
        "for food in sajid_items:\n",
        "    print(\". \" + food)\n",
        "\n",
        "#sajid_items[0] = 'Zinger Burger'\n",
        "\n",
        "sajid_items = ('Sandwich', 'Nuggets', 'Burger', 'Kabab', 'Finger Chips')\n",
        "\n",
        "print('\\nOur manu has been updated:')\n",
        "print(\"You can choose now from sajid's items:\")\n",
        "\n",
        "for food in sajid_items:\n",
        "    print('- ' + food)"
      ],
      "metadata": {
        "id": "9m-b-VN9bZF3"
      },
      "execution_count": null,
      "outputs": []
    }
  ]
}