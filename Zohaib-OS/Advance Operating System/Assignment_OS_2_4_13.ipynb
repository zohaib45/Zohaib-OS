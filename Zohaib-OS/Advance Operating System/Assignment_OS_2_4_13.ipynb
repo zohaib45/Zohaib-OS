{
  "nbformat": 4,
  "nbformat_minor": 0,
  "metadata": {
    "colab": {
      "provenance": [],
      "authorship_tag": "ABX9TyO1x+CcNQiyuk5ymdEVfI+q",
      "include_colab_link": true
    },
    "kernelspec": {
      "name": "python3",
      "display_name": "Python 3"
    },
    "language_info": {
      "name": "python"
    }
  },
  "cells": [
    {
      "cell_type": "markdown",
      "metadata": {
        "id": "view-in-github",
        "colab_type": "text"
      },
      "source": [
        "<a href=\"https://colab.research.google.com/github/zohaib45/Zohaib-OS/blob/main/Zohaib-OS/Advance%20Operating%20System/Assignment_OS_2_4_13.ipynb\" target=\"_parent\"><img src=\"https://colab.research.google.com/assets/colab-badge.svg\" alt=\"Open In Colab\"/></a>"
      ]
    },
    {
      "cell_type": "code",
      "execution_count": null,
      "metadata": {
        "id": "TBNBqyjXcgpy"
      },
      "outputs": [],
      "source": []
    },
    {
      "cell_type": "markdown",
      "source": [
        "# Example 4.13"
      ],
      "metadata": {
        "id": "sRVcMKV2cmO3"
      }
    },
    {
      "cell_type": "code",
      "source": [
        "menu_1 = ('Grilled Burger', 'Cheezy Burger', 'Duble Dacker', 'Value Meal', 'kidz-burger')\n",
        "print(\"You can choose any Item from Menu List :\")\n",
        "for menu in menu_1:\n",
        "    print(\". \" + menu)\n",
        "\n",
        "menu_2 = ('zee Special Pizza', 'Fruit Salad', 'Fajeeta', 'tikaboti Pizza', 'meet cheez lover')\n",
        "\n",
        "print(\"\\n\")\n",
        "print(\"Our manu has been updated: \")\n",
        "print(\"You can choose any item from updated menu:\")\n",
        "\n",
        "for item in menu_2:\n",
        "    print('- ' + item)"
      ],
      "metadata": {
        "colab": {
          "base_uri": "https://localhost:8080/"
        },
        "id": "HHt1a6Necoiv",
        "outputId": "423034bc-b94a-4e48-e9c6-bf6690831cd2"
      },
      "execution_count": 4,
      "outputs": [
        {
          "output_type": "stream",
          "name": "stdout",
          "text": [
            "You can choose any Item from Menu List :\n",
            ". Grilled Burger\n",
            ". Cheezy Burger\n",
            ". Duble Dacker\n",
            ". Value Meal\n",
            ". kidz-burger\n",
            "\n",
            "\n",
            "Our manu has been updated: \n",
            "You can choose any item from updated menu:\n",
            "- zee Special Pizza\n",
            "- Fruit Salad\n",
            "- Fajeeta\n",
            "- tikaboti Pizza\n",
            "- meet cheez lover\n"
          ]
        }
      ]
    }
  ]
}